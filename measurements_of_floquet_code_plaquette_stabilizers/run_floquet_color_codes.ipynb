{
 "cells": [
  {
   "cell_type": "code",
   "execution_count": 6,
   "id": "292c0fb0",
   "metadata": {},
   "outputs": [],
   "source": [
    "from bk_codes import *\n",
    "\n",
    "from matplotlib import pyplot as plt\n",
    "from matplotlib import container\n",
    "\n",
    "from archiver4qiskit import get_archive\n",
    "\n",
    "from qiskit.visualization.timeline import draw"
   ]
  },
  {
   "cell_type": "markdown",
   "id": "47bf2531",
   "metadata": {},
   "source": [
    "To define experiments, we need to set the number of rounds, whether to use dynamical decoupling, and the order in which the three colours of link operators are measured.\n",
    "\n",
    "Note that the minimum number of rounds required to see a syndrome change for all plaquette types is 10."
   ]
  },
  {
   "cell_type": "code",
   "execution_count": 23,
   "id": "324dc827",
   "metadata": {},
   "outputs": [],
   "source": [
    "rounds = 10\n",
    "dd = True\n",
    "processor = 'Falcon'"
   ]
  },
  {
   "cell_type": "code",
   "execution_count": 24,
   "id": "5224dc62",
   "metadata": {},
   "outputs": [
    {
     "data": {
      "text/plain": [
       "([[0.0], [0.0]], [[0.0], [0.0]])"
      ]
     },
     "execution_count": 24,
     "metadata": {},
     "output_type": "execute_result"
    }
   ],
   "source": [
    "archive_id = run_experiment('aer_simulator',rounds,processor=processor,prob=0.0)\n",
    "w_av_z, w_av_x = get_results(archive_id)\n",
    "\n",
    "w_av_z, w_av_x"
   ]
  },
  {
   "cell_type": "markdown",
   "id": "79d7af16",
   "metadata": {},
   "source": [
    "To get the circuit that will be run for a specific backend, put the backend name below. For a simulated circuit (which won't include scheduling or dynamical decoupling) the processor type can be specified (e.g. `processor='Hummingbird'`)."
   ]
  },
  {
   "cell_type": "code",
   "execution_count": 12,
   "id": "947673f1",
   "metadata": {},
   "outputs": [
    {
     "ename": "TypeError",
     "evalue": "get_params() got an unexpected keyword argument 'processor'",
     "output_type": "error",
     "traceback": [
      "\u001b[0;31m---------------------------------------------------------------------------\u001b[0m",
      "\u001b[0;31mTypeError\u001b[0m                                 Traceback (most recent call last)",
      "\u001b[0;32m<ipython-input-12-f33b4db76ed4>\u001b[0m in \u001b[0;36m<module>\u001b[0;34m\u001b[0m\n\u001b[1;32m      3\u001b[0m \u001b[0;34m\u001b[0m\u001b[0m\n\u001b[1;32m      4\u001b[0m \u001b[0;32mif\u001b[0m \u001b[0mbackend_name\u001b[0m\u001b[0;34m:\u001b[0m\u001b[0;34m\u001b[0m\u001b[0;34m\u001b[0m\u001b[0m\n\u001b[0;32m----> 5\u001b[0;31m     \u001b[0mN\u001b[0m\u001b[0;34m,\u001b[0m \u001b[0mplaquettes\u001b[0m\u001b[0;34m,\u001b[0m \u001b[0mcolors\u001b[0m\u001b[0;34m,\u001b[0m \u001b[0mlinks\u001b[0m\u001b[0;34m,\u001b[0m \u001b[0mprocessor\u001b[0m \u001b[0;34m=\u001b[0m \u001b[0mget_params\u001b[0m\u001b[0;34m(\u001b[0m\u001b[0mbackend_name\u001b[0m\u001b[0;34m,\u001b[0m \u001b[0mprocessor\u001b[0m\u001b[0;34m=\u001b[0m\u001b[0mprocessor\u001b[0m\u001b[0;34m)\u001b[0m\u001b[0;34m\u001b[0m\u001b[0;34m\u001b[0m\u001b[0m\n\u001b[0m\u001b[1;32m      6\u001b[0m     \u001b[0mqc\u001b[0m \u001b[0;34m,\u001b[0m \u001b[0moutput\u001b[0m \u001b[0;34m=\u001b[0m \u001b[0mget_circuit\u001b[0m\u001b[0;34m(\u001b[0m\u001b[0mrounds\u001b[0m\u001b[0;34m,\u001b[0m \u001b[0mbackend_name\u001b[0m\u001b[0;34m,\u001b[0m \u001b[0mN\u001b[0m\u001b[0;34m,\u001b[0m \u001b[0mplaquettes\u001b[0m\u001b[0;34m,\u001b[0m \u001b[0mcolors\u001b[0m\u001b[0;34m,\u001b[0m \u001b[0mlinks\u001b[0m\u001b[0;34m,\u001b[0m \u001b[0mdd\u001b[0m\u001b[0;34m)\u001b[0m\u001b[0;34m\u001b[0m\u001b[0;34m\u001b[0m\u001b[0m\n\u001b[1;32m      7\u001b[0m \u001b[0;34m\u001b[0m\u001b[0m\n",
      "\u001b[0;31mTypeError\u001b[0m: get_params() got an unexpected keyword argument 'processor'"
     ]
    }
   ],
   "source": [
    "backend_name = 'ibm_cairo'\n",
    "processor = None\n",
    "\n",
    "if backend_name:\n",
    "    N, plaquettes, colors, links, processor = get_params(backend_name, processor=processor)\n",
    "    qc , output = get_circuit(rounds, backend_name, N, plaquettes, colors, links, dd)\n",
    "    \n",
    "if 'simulator' in backend_name:\n",
    "    fig = qc.draw(output='mpl')\n",
    "else:\n",
    "    fig = draw(qc)\n",
    "fig"
   ]
  },
  {
   "cell_type": "markdown",
   "id": "4d8f987e",
   "metadata": {},
   "source": [
    "To run some experiments, supply a list of names for Falcon, Hummingbird and Eagle devices. The job objects will be archived locally by [archiver4qiskit](https://github.com/NCCR-SPIN/archiver4qiskit?organization=NCCR-SPIN&organization=NCCR-SPIN), with a corresponding archive id."
   ]
  },
  {
   "cell_type": "code",
   "execution_count": 9,
   "id": "d28e0ea2",
   "metadata": {},
   "outputs": [
    {
     "ename": "KeyboardInterrupt",
     "evalue": "",
     "output_type": "error",
     "traceback": [
      "\u001b[0;31m---------------------------------------------------------------------------\u001b[0m",
      "\u001b[0;31mKeyboardInterrupt\u001b[0m                         Traceback (most recent call last)",
      "\u001b[0;32m<ipython-input-9-7a2270bca9db>\u001b[0m in \u001b[0;36m<module>\u001b[0;34m\u001b[0m\n\u001b[1;32m      5\u001b[0m \u001b[0marchive_ids\u001b[0m \u001b[0;34m=\u001b[0m \u001b[0;34m[\u001b[0m\u001b[0;34m]\u001b[0m\u001b[0;34m\u001b[0m\u001b[0;34m\u001b[0m\u001b[0m\n\u001b[1;32m      6\u001b[0m \u001b[0;32mfor\u001b[0m \u001b[0mbackend_name\u001b[0m \u001b[0;32min\u001b[0m \u001b[0mbackend_names\u001b[0m\u001b[0;34m:\u001b[0m\u001b[0;34m\u001b[0m\u001b[0;34m\u001b[0m\u001b[0m\n\u001b[0;32m----> 7\u001b[0;31m     \u001b[0marchive_ids\u001b[0m\u001b[0;34m.\u001b[0m\u001b[0mappend\u001b[0m\u001b[0;34m(\u001b[0m\u001b[0mrun_experiment\u001b[0m\u001b[0;34m(\u001b[0m\u001b[0mbackend_name\u001b[0m\u001b[0;34m,\u001b[0m\u001b[0mrounds\u001b[0m\u001b[0;34m)\u001b[0m\u001b[0;34m)\u001b[0m\u001b[0;34m\u001b[0m\u001b[0;34m\u001b[0m\u001b[0m\n\u001b[0m\u001b[1;32m      8\u001b[0m \u001b[0mprint\u001b[0m\u001b[0;34m(\u001b[0m\u001b[0marchive_ids\u001b[0m\u001b[0;34m)\u001b[0m\u001b[0;34m\u001b[0m\u001b[0;34m\u001b[0m\u001b[0m\n",
      "\u001b[0;32m~/Desktop/data4papers/brown_kesselring/bk_codes.py\u001b[0m in \u001b[0;36mrun_experiment\u001b[0;34m(backend_name, rounds, prob, num_copies, processor, dd)\u001b[0m\n\u001b[1;32m    359\u001b[0m             \u001b[0mrep_delay\u001b[0m \u001b[0;34m=\u001b[0m \u001b[0;36m0.99\u001b[0m\u001b[0;34m*\u001b[0m\u001b[0mbackend\u001b[0m\u001b[0;34m.\u001b[0m\u001b[0mconfiguration\u001b[0m\u001b[0;34m(\u001b[0m\u001b[0;34m)\u001b[0m\u001b[0;34m.\u001b[0m\u001b[0mrep_delay_range\u001b[0m\u001b[0;34m[\u001b[0m\u001b[0;36m1\u001b[0m\u001b[0;34m]\u001b[0m\u001b[0;34m\u001b[0m\u001b[0;34m\u001b[0m\u001b[0m\n\u001b[1;32m    360\u001b[0m \u001b[0;34m\u001b[0m\u001b[0m\n\u001b[0;32m--> 361\u001b[0;31m         \u001b[0marchive_id\u001b[0m \u001b[0;34m=\u001b[0m \u001b[0msubmit_job\u001b[0m\u001b[0;34m(\u001b[0m\u001b[0;34m[\u001b[0m\u001b[0mqc\u001b[0m\u001b[0;34m.\u001b[0m\u001b[0mcopy\u001b[0m\u001b[0;34m(\u001b[0m\u001b[0;34m)\u001b[0m \u001b[0;32mfor\u001b[0m \u001b[0m_\u001b[0m \u001b[0;32min\u001b[0m \u001b[0mrange\u001b[0m\u001b[0;34m(\u001b[0m\u001b[0mnum_copies\u001b[0m\u001b[0;34m)\u001b[0m\u001b[0;34m]\u001b[0m\u001b[0;34m,\u001b[0m \u001b[0mbackend\u001b[0m\u001b[0;34m,\u001b[0m \u001b[0mshots\u001b[0m\u001b[0;34m=\u001b[0m\u001b[0mshots\u001b[0m\u001b[0;34m,\u001b[0m \u001b[0mrep_delay\u001b[0m\u001b[0;34m=\u001b[0m\u001b[0mrep_delay\u001b[0m\u001b[0;34m)\u001b[0m\u001b[0;34m\u001b[0m\u001b[0;34m\u001b[0m\u001b[0m\n\u001b[0m\u001b[1;32m    362\u001b[0m \u001b[0;34m\u001b[0m\u001b[0m\n\u001b[1;32m    363\u001b[0m \u001b[0;34m\u001b[0m\u001b[0m\n",
      "\u001b[0;32m~/Desktop/data4papers/brown_kesselring/bk_codes.py\u001b[0m in \u001b[0;36m<listcomp>\u001b[0;34m(.0)\u001b[0m\n\u001b[1;32m    359\u001b[0m             \u001b[0mrep_delay\u001b[0m \u001b[0;34m=\u001b[0m \u001b[0;36m0.99\u001b[0m\u001b[0;34m*\u001b[0m\u001b[0mbackend\u001b[0m\u001b[0;34m.\u001b[0m\u001b[0mconfiguration\u001b[0m\u001b[0;34m(\u001b[0m\u001b[0;34m)\u001b[0m\u001b[0;34m.\u001b[0m\u001b[0mrep_delay_range\u001b[0m\u001b[0;34m[\u001b[0m\u001b[0;36m1\u001b[0m\u001b[0;34m]\u001b[0m\u001b[0;34m\u001b[0m\u001b[0;34m\u001b[0m\u001b[0m\n\u001b[1;32m    360\u001b[0m \u001b[0;34m\u001b[0m\u001b[0m\n\u001b[0;32m--> 361\u001b[0;31m         \u001b[0marchive_id\u001b[0m \u001b[0;34m=\u001b[0m \u001b[0msubmit_job\u001b[0m\u001b[0;34m(\u001b[0m\u001b[0;34m[\u001b[0m\u001b[0mqc\u001b[0m\u001b[0;34m.\u001b[0m\u001b[0mcopy\u001b[0m\u001b[0;34m(\u001b[0m\u001b[0;34m)\u001b[0m \u001b[0;32mfor\u001b[0m \u001b[0m_\u001b[0m \u001b[0;32min\u001b[0m \u001b[0mrange\u001b[0m\u001b[0;34m(\u001b[0m\u001b[0mnum_copies\u001b[0m\u001b[0;34m)\u001b[0m\u001b[0;34m]\u001b[0m\u001b[0;34m,\u001b[0m \u001b[0mbackend\u001b[0m\u001b[0;34m,\u001b[0m \u001b[0mshots\u001b[0m\u001b[0;34m=\u001b[0m\u001b[0mshots\u001b[0m\u001b[0;34m,\u001b[0m \u001b[0mrep_delay\u001b[0m\u001b[0;34m=\u001b[0m\u001b[0mrep_delay\u001b[0m\u001b[0;34m)\u001b[0m\u001b[0;34m\u001b[0m\u001b[0;34m\u001b[0m\u001b[0m\n\u001b[0m\u001b[1;32m    362\u001b[0m \u001b[0;34m\u001b[0m\u001b[0m\n\u001b[1;32m    363\u001b[0m \u001b[0;34m\u001b[0m\u001b[0m\n",
      "\u001b[0;32m~/opt/miniconda3/lib/python3.9/site-packages/qiskit/circuit/quantumcircuit.py\u001b[0m in \u001b[0;36mcopy\u001b[0;34m(self, name)\u001b[0m\n\u001b[1;32m   2145\u001b[0m         )\n\u001b[1;32m   2146\u001b[0m \u001b[0;34m\u001b[0m\u001b[0m\n\u001b[0;32m-> 2147\u001b[0;31m         cpy._data = [\n\u001b[0m\u001b[1;32m   2148\u001b[0m             \u001b[0;34m(\u001b[0m\u001b[0minstr_copies\u001b[0m\u001b[0;34m[\u001b[0m\u001b[0mid\u001b[0m\u001b[0;34m(\u001b[0m\u001b[0minst\u001b[0m\u001b[0;34m)\u001b[0m\u001b[0;34m]\u001b[0m\u001b[0;34m,\u001b[0m \u001b[0mqargs\u001b[0m\u001b[0;34m.\u001b[0m\u001b[0mcopy\u001b[0m\u001b[0;34m(\u001b[0m\u001b[0;34m)\u001b[0m\u001b[0;34m,\u001b[0m \u001b[0mcargs\u001b[0m\u001b[0;34m.\u001b[0m\u001b[0mcopy\u001b[0m\u001b[0;34m(\u001b[0m\u001b[0;34m)\u001b[0m\u001b[0;34m)\u001b[0m\u001b[0;34m\u001b[0m\u001b[0;34m\u001b[0m\u001b[0m\n\u001b[1;32m   2149\u001b[0m             \u001b[0;32mfor\u001b[0m \u001b[0minst\u001b[0m\u001b[0;34m,\u001b[0m \u001b[0mqargs\u001b[0m\u001b[0;34m,\u001b[0m \u001b[0mcargs\u001b[0m \u001b[0;32min\u001b[0m \u001b[0mself\u001b[0m\u001b[0;34m.\u001b[0m\u001b[0m_data\u001b[0m\u001b[0;34m\u001b[0m\u001b[0;34m\u001b[0m\u001b[0m\n",
      "\u001b[0;32m~/opt/miniconda3/lib/python3.9/site-packages/qiskit/circuit/quantumcircuit.py\u001b[0m in \u001b[0;36m<listcomp>\u001b[0;34m(.0)\u001b[0m\n\u001b[1;32m   2146\u001b[0m \u001b[0;34m\u001b[0m\u001b[0m\n\u001b[1;32m   2147\u001b[0m         cpy._data = [\n\u001b[0;32m-> 2148\u001b[0;31m             \u001b[0;34m(\u001b[0m\u001b[0minstr_copies\u001b[0m\u001b[0;34m[\u001b[0m\u001b[0mid\u001b[0m\u001b[0;34m(\u001b[0m\u001b[0minst\u001b[0m\u001b[0;34m)\u001b[0m\u001b[0;34m]\u001b[0m\u001b[0;34m,\u001b[0m \u001b[0mqargs\u001b[0m\u001b[0;34m.\u001b[0m\u001b[0mcopy\u001b[0m\u001b[0;34m(\u001b[0m\u001b[0;34m)\u001b[0m\u001b[0;34m,\u001b[0m \u001b[0mcargs\u001b[0m\u001b[0;34m.\u001b[0m\u001b[0mcopy\u001b[0m\u001b[0;34m(\u001b[0m\u001b[0;34m)\u001b[0m\u001b[0;34m)\u001b[0m\u001b[0;34m\u001b[0m\u001b[0;34m\u001b[0m\u001b[0m\n\u001b[0m\u001b[1;32m   2149\u001b[0m             \u001b[0;32mfor\u001b[0m \u001b[0minst\u001b[0m\u001b[0;34m,\u001b[0m \u001b[0mqargs\u001b[0m\u001b[0;34m,\u001b[0m \u001b[0mcargs\u001b[0m \u001b[0;32min\u001b[0m \u001b[0mself\u001b[0m\u001b[0;34m.\u001b[0m\u001b[0m_data\u001b[0m\u001b[0;34m\u001b[0m\u001b[0;34m\u001b[0m\u001b[0m\n\u001b[1;32m   2150\u001b[0m         ]\n",
      "\u001b[0;31mKeyboardInterrupt\u001b[0m: "
     ]
    }
   ],
   "source": [
    "backend_names = [\n",
    "    'ibmq_montreal'\n",
    "]\n",
    "\n",
    "archive_ids = []\n",
    "for backend_name in backend_names:\n",
    "    archive_ids.append(run_experiment(backend_name,rounds))\n",
    "print(archive_ids)\n"
   ]
  },
  {
   "cell_type": "markdown",
   "id": "5ce8865e",
   "metadata": {},
   "source": [
    "Here are some archive ids we made earler."
   ]
  },
  {
   "cell_type": "code",
   "execution_count": 10,
   "id": "33101742",
   "metadata": {},
   "outputs": [],
   "source": [
    "archive_ids = [\n",
    "    '62345c81a2f72dbef1da9b94@ibm_hanoi',\n",
    "    '623267afd2b0cb111d5f3b34@ibmq_kolkata',\n",
    "    '623267d2d2b0cb8e375f3b35@ibm_auckland',\n",
    "    '623268c11c417563ad530f1f@ibm_peekskill',\n",
    "    '62345c11538eba729760f9b1@ibmq_mumbai',\n",
    "    '6234eb2c538ebac43760fbb9@ibm_washington',\n",
    "    '6234ed3f09995c5433490f2e@ibmq_montreal'\n",
    "    \n",
    "]\n",
    "archive_ids = ['6234eb2c538ebac43760fbb9@ibm_washington', '6234ed3f09995c5433490f2e@ibmq_montreal']\n",
    "#archive_ids = []"
   ]
  },
  {
   "cell_type": "markdown",
   "id": "656bff27",
   "metadata": {},
   "source": [
    "Now we can process and obtain the results. Uncomment the last line to just use the processed results that were made earlier."
   ]
  },
  {
   "cell_type": "code",
   "execution_count": 32,
   "id": "67f17e3d",
   "metadata": {},
   "outputs": [],
   "source": [
    "q_results = []\n",
    "if archive_ids:\n",
    "    q_results = []\n",
    "    for archive_id in archive_ids:\n",
    "        w_av = get_results(archive_id)\n",
    "        probs_meas, probs_prep, probs_cx, probs_idle, p_0, p_0_std = noise_details(archive_id)\n",
    "        q_results.append([archive_id,\n",
    "                          p_0,\n",
    "                          np.min(w_av),\n",
    "                          np.mean(w_av),\n",
    "                          np.max(w_av)])\n",
    "else:\n",
    "    q_results = [['623267afd2b0cb111d5f3b34@ibmq_kolkata', 0.014733665698841237, 0.3146630859375, 0.3688604736328125, 0.40492431640625], ['623267d2d2b0cb8e375f3b35@ibm_auckland', 0.018246353080956606, 0.35726318359375, 0.420758056640625, 0.4860009765625], ['623268c11c417563ad530f1f@ibm_peekskill', 0.02158705539743783, 0.351126708984375, 0.43315338134765624, 0.503963623046875], ['62345c11538eba729760f9b1@ibmq_mumbai', 0.023846321339006552, 0.42385498046875, 0.44714202880859377, 0.485615234375], ['62345c81a2f72dbef1da9b94@ibm_hanoi', 0.013997134586234361, 0.315760498046875, 0.3497122192382812, 0.390245361328125], ['62345cd409995c3e58490d2c@ibmq_brooklyn', 0.027806546647267286, 0.43721435546875, 0.4844329833984375, 0.50123046875], ['6234ed3f09995c5433490f2e@ibmq_montreal', 0.04360945770430646, 0.4704638671875, 0.4812063598632812, 0.489691162109375], ['6234eb2c538ebac43760fbb9@ibm_washington', 0.030997275988027092, 0.3896484375, 0.4712257385253906, 0.506591796875]]\n",
    "    #[['623267afd2b0cb111d5f3b34@ibmq_kolkata', 0.014733665698841237, 0.3146630859375, 0.3688604736328125, 0.40492431640625], ['623267d2d2b0cb8e375f3b35@ibm_auckland', 0.018246353080956606, 0.35726318359375, 0.420758056640625, 0.4860009765625], ['623268c11c417563ad530f1f@ibm_peekskill', 0.02158705539743783, 0.351126708984375, 0.43315338134765624, 0.503963623046875], ['62345c11538eba729760f9b1@ibmq_mumbai', 0.023846321339006552, 0.42385498046875, 0.44714202880859377, 0.485615234375], ['62345c81a2f72dbef1da9b94@ibm_hanoi', 0.013997134586234361, 0.315760498046875, 0.3497122192382812, 0.390245361328125]]\n",
    "    \n",
    "    "
   ]
  },
  {
   "cell_type": "code",
   "execution_count": 30,
   "id": "ceab163d",
   "metadata": {},
   "outputs": [
    {
     "name": "stdout",
     "output_type": "stream",
     "text": [
      "[['623267afd2b0cb111d5f3b34@ibmq_kolkata', 0.014733665698841237, 0.3146630859375, 0.3688604736328125, 0.40492431640625], ['623267d2d2b0cb8e375f3b35@ibm_auckland', 0.018246353080956606, 0.35726318359375, 0.420758056640625, 0.4860009765625], ['623268c11c417563ad530f1f@ibm_peekskill', 0.02158705539743783, 0.351126708984375, 0.43315338134765624, 0.503963623046875], ['62345c11538eba729760f9b1@ibmq_mumbai', 0.023846321339006552, 0.42385498046875, 0.44714202880859377, 0.485615234375], ['62345c81a2f72dbef1da9b94@ibm_hanoi', 0.013997134586234361, 0.315760498046875, 0.3497122192382812, 0.390245361328125], ['62345cd409995c3e58490d2c@ibmq_brooklyn', 0.027806546647267286, 0.43721435546875, 0.4844329833984375, 0.50123046875], ['6234ed3f09995c5433490f2e@ibmq_montreal', 0.04360945770430646, 0.4704638671875, 0.4812063598632812, 0.489691162109375], ['6234eb2c538ebac43760fbb9@ibm_washington', 0.030997275988027092, 0.3896484375, 0.4712257385253906, 0.506591796875]]\n"
     ]
    }
   ],
   "source": [
    "print(q_results)"
   ]
  },
  {
   "cell_type": "markdown",
   "id": "09aecc93",
   "metadata": {},
   "source": [
    "To compare these with something, we do simulations with a simple error model parameterized by a single probability. Supply a list of probabilities to generate some results, or supply an empty list to use the results that were made earlier."
   ]
  },
  {
   "cell_type": "code",
   "execution_count": 21,
   "id": "2c9a705f",
   "metadata": {},
   "outputs": [],
   "source": [
    "probs = []\n",
    "#probs = [0.01, 0.019, 0.024, 0.07, 0.017, 0.011, 0.06, 0.023, 0.016, 0.02, 0.013, 0.04, 0.05, 0.009, 0.022, 0.018, 0.005, 0.021, 0.006, 0.025, 0.035, 0.007, 0.055, 0.014, 0.012, 0.045, 0.015, 0.065, 0.0175, 0.008, 0.03]\n",
    "\n",
    "if probs:\n",
    "    sim_results = {}\n",
    "    for prob in probs:\n",
    "        archive_id = run_experiment('aer_simulator',rounds,prob=prob)\n",
    "        w_av = get_results(archive_id)\n",
    "        sim_results[prob] = np.mean(w_av)\n",
    "else:\n",
    "    sim_results = {0.01: 0.186370849609375, 0.019: 0.298248291015625, 0.024: 0.34228515625, 0.07: 0.485504150390625, 0.017: 0.276031494140625, 0.011: 0.206878662109375, 0.06: 0.468292236328125, 0.023: 0.33331298828125, 0.016: 0.2633056640625, 0.02: 0.305389404296875, 0.013: 0.231689453125, 0.04: 0.427398681640625, 0.05: 0.45623779296875, 0.009: 0.1710205078125, 0.022: 0.32489013671875, 0.018: 0.2906494140625, 0.005: 0.106048583984375, 0.021: 0.314239501953125, 0.006: 0.12518310546875, 0.025: 0.346954345703125, 0.035: 0.407379150390625, 0.007: 0.141754150390625, 0.055: 0.466156005859375, 0.014: 0.24151611328125, 0.012: 0.21923828125, 0.045: 0.43878173828125, 0.015: 0.255279541015625, 0.065: 0.4722900390625, 0.0175: 0.283203125, 0.008: 0.156036376953125, 0.03: 0.38037109375}\n"
   ]
  },
  {
   "cell_type": "code",
   "execution_count": 22,
   "id": "61219bf3",
   "metadata": {},
   "outputs": [
    {
     "name": "stdout",
     "output_type": "stream",
     "text": [
      "{0.01: 0.186370849609375, 0.019: 0.298248291015625, 0.024: 0.34228515625, 0.07: 0.485504150390625, 0.017: 0.276031494140625, 0.011: 0.206878662109375, 0.06: 0.468292236328125, 0.023: 0.33331298828125, 0.016: 0.2633056640625, 0.02: 0.305389404296875, 0.013: 0.231689453125, 0.04: 0.427398681640625, 0.05: 0.45623779296875, 0.009: 0.1710205078125, 0.022: 0.32489013671875, 0.018: 0.2906494140625, 0.005: 0.106048583984375, 0.021: 0.314239501953125, 0.006: 0.12518310546875, 0.025: 0.346954345703125, 0.035: 0.407379150390625, 0.007: 0.141754150390625, 0.055: 0.466156005859375, 0.014: 0.24151611328125, 0.012: 0.21923828125, 0.045: 0.43878173828125, 0.015: 0.255279541015625, 0.065: 0.4722900390625, 0.0175: 0.283203125, 0.008: 0.156036376953125, 0.03: 0.38037109375}\n"
     ]
    }
   ],
   "source": [
    "print(sim_results)"
   ]
  },
  {
   "cell_type": "markdown",
   "id": "c0a18838",
   "metadata": {},
   "source": [
    "Now we plot everything."
   ]
  },
  {
   "cell_type": "code",
   "execution_count": 43,
   "id": "8b16d3f4",
   "metadata": {
    "scrolled": false
   },
   "outputs": [
    {
     "data": {
      "image/png": "[encoded data removed]",
      "text/plain": [
       "<Figure size 864x504 with 1 Axes>"
      ]
     },
     "metadata": {
      "needs_background": "light"
     },
     "output_type": "display_data"
    }
   ],
   "source": [
    "plt.figure(figsize=(12,7))\n",
    "plt.rcParams.update({'font.size': 20})\n",
    "\n",
    "plt.xlabel('Gate error')\n",
    "plt.ylabel('Syndrome change detection rate')\n",
    "\n",
    "color = {'ibm_hanoi':'red', 'ibm_auckland':'blue', 'ibmq_kolkata':'olive','ibm_peekskill':'purple', 'ibmq_mumbai':'orange', 'ibmq_montreal':'green', 'ibmq_brooklyn':'steelblue', 'ibmq_toronto':'deeppink', 'ibm_washington':'brown'}\n",
    "\n",
    "# plot sim results    \n",
    "probs = []\n",
    "ws = []\n",
    "for prob,w in sim_results.items():\n",
    "    if prob<=0.05:\n",
    "        probs.append(prob)\n",
    "        ws.append(w)\n",
    "plt.scatter(probs,ws,s=200,marker='x',c='grey',label='simulated noise')\n",
    "\n",
    "for archive_id, p_0, bot, mid, top in q_results:\n",
    "    backend_id = archive_id.split('@')[1]\n",
    "    plt.errorbar([p_0],[mid],yerr=[[top-mid],[mid-bot]],marker='x',ms=15,capsize=15,label=backend_id,color=color[backend_id])\n",
    "    \n",
    "ax = plt.gca()\n",
    "handles, labels = ax.get_legend_handles_labels()\n",
    "new_handles = []\n",
    "for h in handles:\n",
    "    if isinstance(h, container.ErrorbarContainer):\n",
    "        new_handles.append(h[0])\n",
    "    else:\n",
    "        new_handles.append(h)\n",
    "ax.legend(new_handles, labels, fontsize='small')\n",
    "ax.set_ylim([0.1,0.56])\n",
    "    \n",
    "plt.savefig('results_bk.png')"
   ]
  },
  {
   "cell_type": "code",
   "execution_count": 37,
   "id": "ecad4549",
   "metadata": {},
   "outputs": [
    {
     "name": "stdout",
     "output_type": "stream",
     "text": [
      "ibm_washington 0.031 0.0478\n",
      "ibmq_montreal 0.0436 0.0782\n"
     ]
    }
   ],
   "source": [
    "for archive_id in archive_ids:\n",
    "    probs_meas, probs_prep, probs_cx, probs_idle, p_0, p_0_std = noise_details(archive_id)\n",
    "    print(archive_id.split('@')[1],round(p_0,4),round(p_0_std,4))"
   ]
  },
  {
   "cell_type": "code",
   "execution_count": 41,
   "id": "8ec613d9",
   "metadata": {},
   "outputs": [
    {
     "data": {
      "text/plain": [
       "{(0, 1): 0.006690801620497899,\n",
       " (1, 2): 0.008315841592478668,\n",
       " (1, 4): 0.014751736617317573,\n",
       " (2, 3): 0.006107792076614438,\n",
       " (3, 5): 0.008259258738549907,\n",
       " (4, 7): 0.014708613036512497,\n",
       " (5, 8): 0.009626573871567928,\n",
       " (6, 7): 0.019721708916445535,\n",
       " (7, 10): 0.021185518213515497,\n",
       " (8, 9): 0.008141165367296005,\n",
       " (8, 11): 0.008336439718666905,\n",
       " (10, 12): 0.011856285807987171,\n",
       " (11, 14): 0.0069883809304363,\n",
       " (12, 13): 0.01404550179645489,\n",
       " (12, 15): 0.020346207415992745,\n",
       " (13, 14): 0.011138199691809958,\n",
       " (14, 16): 0.006534203661589494,\n",
       " (15, 18): 0.01908316464510587,\n",
       " (16, 19): 0.01019788845328995,\n",
       " (17, 18): 0.012799930861723097,\n",
       " (18, 21): 0.015969153815998505,\n",
       " (19, 20): 0.007969863340352767,\n",
       " (19, 22): 0.00811604315080916,\n",
       " (21, 23): 0.025851357592321905,\n",
       " (22, 25): 0.016123443638335344,\n",
       " (23, 24): 0.02796797220370026,\n",
       " (24, 25): 0.011800160066058552,\n",
       " (25, 26): 0.025740332593398446}"
      ]
     },
     "execution_count": 41,
     "metadata": {},
     "output_type": "execute_result"
    }
   ],
   "source": [
    "probs_cx"
   ]
  },
  {
   "cell_type": "code",
   "execution_count": null,
   "id": "de2ce426",
   "metadata": {},
   "outputs": [],
   "source": []
  }
 ],
 "metadata": {
  "kernelspec": {
   "display_name": "Python 3",
   "language": "python",
   "name": "python3"
  },
  "language_info": {
   "codemirror_mode": {
    "name": "ipython",
    "version": 3
   },
   "file_extension": ".py",
   "mimetype": "text/x-python",
   "name": "python",
   "nbconvert_exporter": "python",
   "pygments_lexer": "ipython3",
   "version": "3.9.1"
  }
 },
 "nbformat": 4,
 "nbformat_minor": 5
}
