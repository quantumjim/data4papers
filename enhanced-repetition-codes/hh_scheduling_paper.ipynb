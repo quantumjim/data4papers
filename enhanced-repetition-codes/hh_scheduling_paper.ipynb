{
 "cells": [
  {
   "cell_type": "code",
   "execution_count": 1,
   "metadata": {},
   "outputs": [
    {
     "name": "stdout",
     "output_type": "stream",
     "text": [
      "\n",
      "qiskit-terra\t0.24.1\n",
      "qiskit-aer\t0.12.1\n",
      "qiskit-ibmq-provider\t0.20.2\n",
      "qiskit\t0.43.2\n",
      "System information\n",
      "Python version\t3.10.6\n",
      "Python compiler\tClang 12.0.0\n",
      "Python build\tmain, Oct 24 2022 11:04:34\n",
      "\n"
     ]
    }
   ],
   "source": [
    "from qiskit_qec.circuits.repetition_code import ArcCircuit\n",
    "from qiskit_ibm_provider import IBMProvider\n",
    "from qiskit_aer import AerSimulator, noise\n",
    "\n",
    "\n",
    "from qiskit_qec.decoders import DecodingGraph\n",
    "import pickle\n",
    "\n",
    "from matplotlib import pyplot as plt\n",
    "from random import shuffle\n",
    "import numpy as np\n",
    "import datetime\n",
    "\n",
    "from utils import get_error_coords, schedule_heavy_hex\n",
    "\n",
    "print('''\n",
    "qiskit-terra\t0.24.1\n",
    "qiskit-aer\t0.12.1\n",
    "qiskit-ibmq-provider\t0.20.2\n",
    "qiskit\t0.43.2\n",
    "System information\n",
    "Python version\t3.10.6\n",
    "Python compiler\tClang 12.0.0\n",
    "Python build\tmain, Oct 24 2022 11:04:34\n",
    "''')"
   ]
  },
  {
   "cell_type": "markdown",
   "metadata": {},
   "source": [
    "We start by getting the backend we'll use. Here's `ibm_sherbrooke`."
   ]
  },
  {
   "cell_type": "code",
   "execution_count": 2,
   "metadata": {},
   "outputs": [],
   "source": [
    "simulator = True # choose whether to use a simulator\n",
    "\n",
    "try:\n",
    "    assert simulator == False\n",
    "    provider = IBMProvider(instance='ibm-q-internal/deployed/default')\n",
    "    backend = provider.get_backend('ibm_sherbrooke')\n",
    "    simulator = False\n",
    "except:\n",
    "    if not simulator:\n",
    "        print('No access to real device. proceeding with simulator')\n",
    "    from qiskit.providers.fake_provider import FakeSherbrooke\n",
    "    backend = FakeSherbrooke()\n",
    "    simulator = True\n",
    "num_qubits = backend.num_qubits\n",
    "plot_backend = backend"
   ]
  },
  {
   "cell_type": "markdown",
   "metadata": {},
   "source": [
    "Then we analyze it to get the links and schedules that the code will be based on."
   ]
  },
  {
   "cell_type": "code",
   "execution_count": 3,
   "metadata": {},
   "outputs": [],
   "source": [
    "links, schedule, triplets = schedule_heavy_hex(backend)"
   ]
  },
  {
   "cell_type": "markdown",
   "metadata": {},
   "source": [
    "If you are running the code on a noisy simulator, this will be set up by the following."
   ]
  },
  {
   "cell_type": "code",
   "execution_count": 4,
   "metadata": {},
   "outputs": [],
   "source": [
    "if simulator:\n",
    "    backend = AerSimulator()\n",
    "    p_all = 0.05\n",
    "    \n",
    "    def get_noise_model(p_1,p_2,p_m):\n",
    "        e_1 = noise.depolarizing_error(p_1, 1)\n",
    "        e_2 = noise.depolarizing_error(p_2, 2)\n",
    "        e_m = noise.pauli_error([('X',p_m),('I',1-p_m)])\n",
    "        noise_model = noise.NoiseModel()\n",
    "        noise_model.add_all_qubit_quantum_error(e_1, ['h', 'x', 'rz', 'sx'])\n",
    "        noise_model.add_all_qubit_quantum_error(e_2, ['cx'])\n",
    "        noise_model.add_all_qubit_quantum_error(e_m, ['measure'])\n",
    "        return noise_model\n",
    "\n",
    "    noise_model = get_noise_model(p_all,p_all,p_all)"
   ]
  },
  {
   "cell_type": "markdown",
   "metadata": {},
   "source": [
    "The following cell will now run all the required circuits on your chosen backend. If you just want to look at previous data, then don't run it."
   ]
  },
  {
   "cell_type": "code",
   "execution_count": 5,
   "metadata": {},
   "outputs": [
    {
     "name": "stdout",
     "output_type": "stream",
     "text": [
      "* 10 b52e1695-0c1b-47cc-a796-0745faff3294\n"
     ]
    }
   ],
   "source": [
    "resets = True\n",
    "\n",
    "if not simulator:\n",
    "    delay = round((backend.properties().gate_length('reset',0)/backend.dt)/16)*16\n",
    "for T in [10]: # set number of rounds to run for here\n",
    "    circuits = []\n",
    "    code = {}\n",
    "    for logical in ['0', '1']:\n",
    "        if resets:\n",
    "            code[logical] = ArcCircuit(links,T,schedule=schedule,run_202=False,basis='zx',logical=logical,resets=True)\n",
    "        else:\n",
    "            code[logical] = ArcCircuit(links,T,schedule=schedule,run_202=False,basis='zx',logical=logical,resets=False,delay=delay)\n",
    "        if not simulator:\n",
    "            circuit = code[logical].transpile(backend)\n",
    "        else:\n",
    "            circuit = code[logical].circuit\n",
    "        for basis in [code[logical].basis, code[logical].basis[::-1]]:\n",
    "            circuits.append(circuit[basis])\n",
    "    if not simulator:\n",
    "        job = backend.run(circuits, shots=10000, rep_delay=backend.configuration().rep_delay_range[1])\n",
    "    else:\n",
    "        job = backend.run(circuits, shots=10000)\n",
    "    for logical in ['0', '1']:\n",
    "        with open('code_circuit/'+job.job_id()+'_'+logical+'.p', 'wb') as file:\n",
    "            pickle.dump(code[logical], file)\n",
    "    print('*', T, job.job_id())"
   ]
  },
  {
   "cell_type": "markdown",
   "metadata": {},
   "source": [
    "Here are some results I made earlier."
   ]
  },
  {
   "attachments": {},
   "cell_type": "markdown",
   "metadata": {},
   "source": [
    "\n",
    "### 30th June 2023 `'ibm_sherbrooke'`  (ran on 3rd/4th July)\n",
    "\n",
    "`resets=True`\n",
    "\n",
    "* 1 ciff4mk60l54kv9p5r3g\n",
    "* 10 ciff837985671v40uq40\n",
    "\n",
    "`resets=False`, `delay=5856`\n",
    "\n",
    "* 10 cifg0vc60l54kv9qhi30\n",
    "\n",
    "`resets=True`, `backend=FakeSherbrooke()`\n",
    "\n",
    "* 10 547460de-1663-47a7-b35f-db2b53b8bedb\n",
    "\n",
    "`resets=True`, `p_all=0.01`\n",
    "\n",
    "* 10 1348f289-c591-4035-9df1-6bb5c652bac7"
   ]
  },
  {
   "cell_type": "markdown",
   "metadata": {},
   "source": [
    "Pick a job ID and put it below to load the results."
   ]
  },
  {
   "cell_type": "code",
   "execution_count": 6,
   "metadata": {},
   "outputs": [],
   "source": [
    "job_id = 'ciff4mk60l54kv9p5r3g'\n",
    "\n",
    "code = {}\n",
    "for logical in ['0', '1']:\n",
    "    with open('code_circuit/'+job_id+'_'+logical+'.p', 'rb') as file:\n",
    "        code[logical] = pickle.load(file)\n",
    "dg = DecodingGraph(code['0'])\n",
    "\n",
    "try:\n",
    "    with open('result/'+job_id+'.p', 'rb') as file:\n",
    "        result = pickle.load(file)\n",
    "except:\n",
    "    result = provider.retrieve_job(job_id).result()\n",
    "    with open('result/'+job_id+'.p', 'wb') as file:\n",
    "        pickle.dump(result, file)\n",
    "raw_counts = result.get_counts()\n"
   ]
  },
  {
   "attachments": {},
   "cell_type": "markdown",
   "metadata": {},
   "source": [
    "For `shots=None` below, the full set of results is used. Otherwise, it's just a randomly sampled set of shots."
   ]
  },
  {
   "cell_type": "code",
   "execution_count": 9,
   "metadata": {},
   "outputs": [],
   "source": [
    "shots = None\n",
    "\n",
    "if shots:\n",
    "    counts = []\n",
    "    for j in range(4):\n",
    "\n",
    "        memory = []\n",
    "        for string in raw_counts[j]:\n",
    "            memory += [string]*raw_counts[j][string]\n",
    "        shuffle(memory)\n",
    "\n",
    "        counts.append({})\n",
    "        for string in set(memory[0:shots]):\n",
    "            counts[j][string] = raw_counts[j][string]\n",
    "else:\n",
    "    counts = raw_counts"
   ]
  },
  {
   "cell_type": "markdown",
   "metadata": {},
   "source": [
    "The cell below calculates the probabilities of errors for each edge in the decoding graph, or loads previously calculated data if available."
   ]
  },
  {
   "cell_type": "code",
   "execution_count": 10,
   "metadata": {},
   "outputs": [],
   "source": [
    "try:\n",
    "    with open('probs/'+job_id+'_'+str(shots)+'.p', 'rb') as file:\n",
    "        alt_probs, alt_samples = pickle.load(file)\n",
    "except:\n",
    "\n",
    "    probs = []\n",
    "    samples = []\n",
    "    for j in range(4):\n",
    "        p, s = get_error_coords(code[int(j%2)], counts[j], dg, method='naive', return_samples=True)\n",
    "        probs.append(p)\n",
    "        samples.append(s)\n",
    "    \n",
    "    alt_probs = []\n",
    "    alt_samples = []\n",
    "    for j in range(4):\n",
    "        alt_probs.append({})\n",
    "        alt_samples.append({})\n",
    "        for q, t0, t1 in probs[j]:\n",
    "            if q not in alt_probs[-1]:\n",
    "                alt_probs[-1][q] = {}\n",
    "                alt_samples[-1][q] = {}\n",
    "            alt_probs[-1][q][t0, t1] = probs[j][q, t0, t1]\n",
    "            alt_samples[-1][q][t0, t1] = samples[j][q, t0, t1]\n",
    "\n",
    "    with open('probs/'+job_id+'_'+str(shots)+'.p', 'wb') as file:\n",
    "        pickle.dump((alt_probs, alt_samples), file)"
   ]
  },
  {
   "cell_type": "markdown",
   "metadata": {},
   "source": [
    "Now we calculate the means..."
   ]
  },
  {
   "cell_type": "code",
   "execution_count": 11,
   "metadata": {},
   "outputs": [],
   "source": [
    "means = [None]*num_qubits\n",
    "for q in alt_probs[0]:\n",
    "    prob_list = []\n",
    "    for j in range(4):\n",
    "        for ts in alt_probs[j][q]:\n",
    "            prob_list += list( alt_probs[j][q][ts].values() )\n",
    "    if type(q) is not tuple:\n",
    "        means[q] = np.mean(prob_list)"
   ]
  },
  {
   "cell_type": "markdown",
   "metadata": {},
   "source": [
    "...and plot them. You'll find the file in the 'error_plot' folder."
   ]
  },
  {
   "cell_type": "code",
   "execution_count": 12,
   "metadata": {},
   "outputs": [],
   "source": [
    "from qiskit.visualization import plot_gate_map\n",
    "\n",
    "def plot_error_map(means, code_qubits, backend, filename, max_p = 0.25):\n",
    "\n",
    "    color = []\n",
    "    label = []\n",
    "    for q, mean in enumerate(means):\n",
    "        if mean is not None:\n",
    "            if not np.isnan(mean):\n",
    "                if mean < max_p:\n",
    "                    h = hex(int(256*(1-mean/max_p)))[2::]\n",
    "                    if len(h)==1:\n",
    "                        h = '0'+h\n",
    "                    if q in code_qubits:\n",
    "                        color.append('#0000'+h)\n",
    "                    else:\n",
    "                        color.append('#'+h+'0000')\n",
    "                else:\n",
    "                    color.append('#000000')\n",
    "                label.append(str(int(1000*mean)/10))\n",
    "            else:\n",
    "                color.append('#dddddd')\n",
    "                label.append('')  \n",
    "        else:\n",
    "            color.append('#dddddd')\n",
    "            label.append('')\n",
    "\n",
    "    color += ['#dddddd']*(27-len(color))\n",
    "    label += ['']*(27-len(label))\n",
    "\n",
    "    fig = plot_gate_map(\n",
    "        backend,\n",
    "        qubit_color=color,\n",
    "        qubit_labels=label,\n",
    "        figsize=(12,12),\n",
    "        line_color=['grey']*num_qubits*3\n",
    "        )\n",
    "    fig.savefig(filename)\n",
    "\n",
    "code_qubits = set(code['0'].code_index.keys())\n",
    "plot_error_map(means, code_qubits, plot_backend, 'error_plot/'+job_id+'_'+str(shots)+'.png')"
   ]
  },
  {
   "cell_type": "markdown",
   "metadata": {},
   "source": [
    "For a real backend, we can also plot errors from the benchmarking of that day."
   ]
  },
  {
   "cell_type": "code",
   "execution_count": 13,
   "metadata": {},
   "outputs": [],
   "source": [
    "if not simulator:\n",
    "\n",
    "    date = (result.date.year,result.date.month,result.date.day)\n",
    "\n",
    "    properties = backend.properties(datetime=datetime.datetime(date[0], date[1], date[2]))\n",
    "    max_error = [0]*backend.num_qubits\n",
    "    for qubits in backend.configuration().coupling_map:\n",
    "        try:\n",
    "            p = properties.gate_error('ecr', qubits)\n",
    "            for q in qubits:\n",
    "                max_error[q] = max(max_error[q], p)\n",
    "        except:\n",
    "            pass\n",
    "    for q in range(backend.num_qubits):\n",
    "        if q not in code_qubits:\n",
    "            p = properties.readout_error(q)\n",
    "            max_error[q] = max(max_error[q], p)\n",
    "    for q, p in enumerate(max_error):\n",
    "        if p == 1 or p==0:\n",
    "            max_error[q] = None\n",
    "\n",
    "    plot_error_map(max_error, code_qubits, backend, 'arc_data/error_plot/'+str(date)+'.png')"
   ]
  },
  {
   "cell_type": "markdown",
   "metadata": {},
   "source": [
    "By selecting a qubit `q`, you can plot its errors over time."
   ]
  },
  {
   "cell_type": "code",
   "execution_count": 14,
   "metadata": {},
   "outputs": [
    {
     "name": "stdout",
     "output_type": "stream",
     "text": [
      "code\n"
     ]
    },
    {
     "data": {
      "image/png": "[encoded data removed]",
      "text/plain": [
       "<Figure size 640x480 with 1 Axes>"
      ]
     },
     "metadata": {},
     "output_type": "display_data"
    }
   ],
   "source": [
    "q = 0 # qubit to look at\n",
    "\n",
    "dt = 0.01/len(code['0'].schedule)\n",
    "\n",
    "if q in code['0'].color:\n",
    "    ty = 'code'\n",
    "else:\n",
    "    ty = 'aux'\n",
    "print(ty)\n",
    "\n",
    "circuits = []\n",
    "for logical in ['0', '1']:\n",
    "    circuit = code[logical].circuit\n",
    "    for basis in [code[logical].basis, code[logical].basis[::-1]]:\n",
    "        circuits.append(circuit[basis])\n",
    "\n",
    "colors = ['red', 'orange', 'blue', 'green']\n",
    "ls = [0]\n",
    "if ty=='code':\n",
    "    ls.append(1)\n",
    "for b in [0, 1]:\n",
    "    for l in ls:\n",
    "        j = b+2*l\n",
    "        if q in code[str(l)].code_index:\n",
    "            # see what errors this is sensitive to\n",
    "            k = False\n",
    "            for line in circuits[j].qasm().split('\\n'):\n",
    "                if 'code_qubit['+str(code[str(l)].code_index[q]) in line:\n",
    "                    k = k or 'h' in line\n",
    "            k = int(k)\n",
    "        else:\n",
    "            k = b\n",
    "        for ts in alt_probs[j][q]:\n",
    "            tav = (ts[0]+ts[1])/2\n",
    "            for coords in alt_probs[j][q][ts]:\n",
    "                prob = alt_probs[j][q][ts][coords]\n",
    "                samples = alt_samples[j][q][ts][coords]\n",
    "                dp = prob/(samples**0.5)\n",
    "                color = colors[k+2*l]\n",
    "                if ts[0]==ts[1]:\n",
    "                    plt.scatter([np.mean(ts)],[prob], color=color, marker='.')\n",
    "                else:\n",
    "                    plt.plot([ts[0]-dt, ts[1]+dt], [prob, prob], color=color, linestyle='-', linewidth=3)\n",
    "                plt.plot([tav,tav], [prob+dp, prob-dp], color=color, linestyle='-', linewidth=1)\n",
    "plt.xlim((0,code[str(l)].T))\n",
    "plt.xticks(range(code[str(l)].T+1))\n",
    "plt.ylim(0)\n",
    "\n",
    "plt.grid()\n",
    "plt.savefig('error_plot/'+job_id+'_'+str(q)+'_'+ty+'.png')\n",
    "plt.show()"
   ]
  },
  {
   "cell_type": "markdown",
   "metadata": {},
   "source": [
    "Now we do the macroscopic analysis."
   ]
  },
  {
   "cell_type": "code",
   "execution_count": 16,
   "metadata": {},
   "outputs": [],
   "source": [
    "if shots is None:\n",
    "    shots = 10000"
   ]
  },
  {
   "cell_type": "code",
   "execution_count": 17,
   "metadata": {},
   "outputs": [],
   "source": [
    "from qiskit_qec.decoders import UnionFindDecoder\n",
    "dec = UnionFindDecoder(code['0'], use_peeling=False)\n",
    "\n",
    "try:\n",
    "    with open('nums/'+job_id+'_'+str(shots)+'_uf.p', 'rb') as file:\n",
    "        node_nums, flat_node_nums, error_nums = pickle.load(file)\n",
    "    with open('log/'+job_id+'_'+str(shots)+'_uf.p', 'rb') as file:\n",
    "        log_counts = pickle.load(file)\n",
    "except:\n",
    "    node_nums = {}\n",
    "    flat_node_nums = {}\n",
    "    error_nums = {}\n",
    "    log_counts = []\n",
    "\n",
    "    all_nodes = dg.graph.nodes()\n",
    "    for j in range(4):\n",
    "        shots = 0\n",
    "        log_counts.append({})\n",
    "        for string in counts[j]:\n",
    "\n",
    "            clusters = dec.cluster(code[str(j%2)].string2nodes(string, all_logicals=True))\n",
    "            clustered_nodes = {}\n",
    "            for n, c in clusters.items():\n",
    "                node = all_nodes[n]\n",
    "                if not node.is_boundary:\n",
    "                    if c in clustered_nodes:\n",
    "                        clustered_nodes[c].append(node)\n",
    "                    else:\n",
    "                        clustered_nodes[c] = [node]\n",
    "            for c, nodes in clustered_nodes.items():\n",
    "                node_num = len(nodes)\n",
    "                flat_node_num = len(code[str(j%2)].flatten_nodes(nodes))\n",
    "                _, _, error_num = code[str(j%2)].check_nodes(nodes, minimal=True)\n",
    "                for num, nums in [(node_num, node_nums), (flat_node_num, flat_node_nums), (error_num, error_nums)]:\n",
    "                    if num in nums:\n",
    "                        nums[num] += counts[j][string]/4\n",
    "                    else:\n",
    "                        nums[num] = counts[j][string]/4\n",
    "\n",
    "            logical = str(dec.get_corrections(string, clusters)[0])\n",
    "            if logical in log_counts[j]:\n",
    "                log_counts[j][logical] += counts[j][string]\n",
    "            else:\n",
    "                log_counts[j][logical] = counts[j][string]\n",
    "\n",
    "            shots += counts[j][string]\n",
    "            if shots%100==0:\n",
    "                print(shots)\n",
    "                print(log_counts)\n",
    "\n",
    "    with open('nums/'+job_id+'_'+str(shots)+'_uf.p', 'wb') as file:\n",
    "        pickle.dump((node_nums, flat_node_nums, error_nums), file)\n",
    "\n",
    "    with open('log/'+job_id+'_'+str(shots)+'_uf.p', 'wb') as file:\n",
    "        pickle.dump(log_counts, file)"
   ]
  },
  {
   "cell_type": "markdown",
   "metadata": {},
   "source": [
    "First we see what the logical outcomes were."
   ]
  },
  {
   "cell_type": "code",
   "execution_count": 18,
   "metadata": {},
   "outputs": [
    {
     "data": {
      "text/plain": [
       "[{'0': 10000}, {'0': 10000}, {'1': 10000}, {'1': 10000}]"
      ]
     },
     "execution_count": 18,
     "metadata": {},
     "output_type": "execute_result"
    }
   ],
   "source": [
    "log_counts"
   ]
  },
  {
   "cell_type": "markdown",
   "metadata": {},
   "source": [
    "If they are all good, we can plot the number of errors in the clusters."
   ]
  },
  {
   "cell_type": "code",
   "execution_count": 19,
   "metadata": {},
   "outputs": [
    {
     "data": {
      "image/png": "[encoded data removed]",
      "text/plain": [
       "<Figure size 640x480 with 1 Axes>"
      ]
     },
     "metadata": {},
     "output_type": "display_data"
    }
   ],
   "source": [
    "from matplotlib import pyplot as pyplot\n",
    "\n",
    "def plot_nums(numss, labels=None, xticks=None):\n",
    "    colors = ['blue', 'green']\n",
    "    if not isinstance(numss, list):\n",
    "        numss = [numss]\n",
    "    for j, nums in enumerate(numss):\n",
    "        xs, ys, yerrs = [], [], []\n",
    "        for x, y in nums.items():\n",
    "            if x is None:\n",
    "                x = 0\n",
    "            xs.append(x)\n",
    "            y = y/shots\n",
    "            yerrs.append(1/shots*0.5)\n",
    "            ys.append(y)\n",
    "        plt.errorbar(xs, ys, yerr=yerrs, color=colors[j], linewidth=0, elinewidth=1, marker='.')\n",
    "        \n",
    "        plt.yscale(\"log\")\n",
    "        #plt.xscale(\"log\")\n",
    "    \n",
    "    if labels:\n",
    "        plt.legend(labels)\n",
    "    if xticks:\n",
    "        plt.xticks(xticks)\n",
    "\n",
    "plot_nums([error_nums])\n",
    "\n",
    "plt.savefig('nums/'+job_id+'_'+str(shots)+'_uf.png')\n",
    "plt.show()\n"
   ]
  },
  {
   "cell_type": "code",
   "execution_count": null,
   "metadata": {},
   "outputs": [],
   "source": []
  }
 ],
 "metadata": {
  "kernelspec": {
   "display_name": "arc-decoder",
   "language": "python",
   "name": "python3"
  },
  "language_info": {
   "codemirror_mode": {
    "name": "ipython",
    "version": 3
   },
   "file_extension": ".py",
   "mimetype": "text/x-python",
   "name": "python",
   "nbconvert_exporter": "python",
   "pygments_lexer": "ipython3",
   "version": "3.10.6"
  },
  "orig_nbformat": 4,
  "vscode": {
   "interpreter": {
    "hash": "03129f355ee4a9ac18d094f888c5b06a42548fdd2b980a4388a8afbc8ddd4684"
   }
  }
 },
 "nbformat": 4,
 "nbformat_minor": 2
}
