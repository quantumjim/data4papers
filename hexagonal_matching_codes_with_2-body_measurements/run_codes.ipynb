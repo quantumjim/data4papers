{
 "cells": [
  {
   "cell_type": "code",
   "execution_count": null,
   "id": "77c5d956",
   "metadata": {},
   "outputs": [],
   "source": [
    "from matching_codes import *\n",
    "from matplotlib import pyplot as plt\n",
    "import os\n",
    "from archiver4qiskit import get_archive\n",
    "import numpy as np"
   ]
  },
  {
   "cell_type": "markdown",
   "id": "af4e41d0",
   "metadata": {},
   "source": [
    "We'll be looking at results for the following number of rounds."
   ]
  },
  {
   "cell_type": "code",
   "execution_count": null,
   "id": "baddb502",
   "metadata": {},
   "outputs": [],
   "source": [
    "T = 3"
   ]
  },
  {
   "cell_type": "markdown",
   "id": "cdf32367",
   "metadata": {},
   "source": [
    "# Results from quantum hardware"
   ]
  },
  {
   "cell_type": "markdown",
   "id": "f444c84d",
   "metadata": {},
   "source": [
    "Collected results so far are in the following dictionary."
   ]
  },
  {
   "cell_type": "code",
   "execution_count": null,
   "id": "68c3bc43",
   "metadata": {},
   "outputs": [],
   "source": [
    "q_results = {0.014733304864212728: (0.49946014404296873, 0.002957956919416478, 0.35208953857421876, 0.002724540788204261, '61408c8e7441036bc032bf10@ibm_cairo'), 0.03919804873657737: (0.49828338623046875, 0.0, 0.49687957763671875, 0.0, '61406c6f7441031e1d32be12@ibmq_brooklyn'), 0.18277725592702185: (0.49835205078125, 0.0, 0.5001144409179688, 0.0, '61406c5e966497a496f64715@ibmq_manhattan'), 0.04410558418549261: (0.496673583984375, 0.0, 0.49609375, 0.0, '6140a857010c164bf5563db3@ibmq_montreal'), 0.015516841814849866: (0.4997662353515625, 0.0023386272235645495, 0.3969146728515625, 0.002519079581887645, '6140b376010c161a6c563e21@ibm_hanoi'), 0.0903651130410122: (0.504638671875, 0.0, 0.49481201171875, 0.0, '614320208eca75491642c205@ibmq_sydney'), 0.0516558474392802: (0.4949951171875, 0.0, 0.49884033203125, 0.0, '61432155744103206a32da50@ibmq_toronto')}\n"
   ]
  },
  {
   "cell_type": "markdown",
   "id": "e42de9f4",
   "metadata": {},
   "source": [
    "Put an archive id below to process and add another result. To start a new job, use `'@'+backend_name`."
   ]
  },
  {
   "cell_type": "code",
   "execution_count": null,
   "id": "6d00b902",
   "metadata": {},
   "outputs": [],
   "source": [
    "archive_id = ''\n",
    "\n",
    "w_av, z_av, archive_id = get_results(archive_id,T,num_copies=1)\n",
    "\n",
    "av_w, std_w, av_z, std_z = get_average_mean(w_av, z_av)\n",
    "probs_meas, probs_prep, probs_cx, probs_idle, p_0, p_0_std = noise_details(archive_id)\n",
    "\n",
    "q_results[p_0] = av_w, std_w, av_z, std_z, archive_id"
   ]
  },
  {
   "cell_type": "code",
   "execution_count": null,
   "id": "69e03d02",
   "metadata": {},
   "outputs": [],
   "source": [
    "print(q_results)"
   ]
  },
  {
   "cell_type": "markdown",
   "id": "16f72b22",
   "metadata": {},
   "source": [
    "# Results from simulations"
   ]
  },
  {
   "cell_type": "markdown",
   "id": "6b320d91",
   "metadata": {},
   "source": [
    "Collected results so far are in the following dictionary."
   ]
  },
  {
   "cell_type": "code",
   "execution_count": null,
   "id": "2d5d7108",
   "metadata": {},
   "outputs": [],
   "source": [
    "sim_results = {0.01: (0.4627838134765625, 0.0, 0.2629241943359375, 0.0, 'a22ba534-1e88-4ee5-9003-f2900659b89d@aer_simulator & 8c0f880a-a0ec-49fd-a773-f92bb6e30318@aer_simulator & 747e9e4d-ba0e-4802-a280-455c861c8df6@aer_simulator'), 0.019: (0.4994913736979167, 0.0, 0.3769632975260417, 0.0, 'a1503e1a-6eb1-43a3-bcb8-7a5831e294f6@aer_simulator & 460a31dc-c922-4c09-bda6-d5d1a4951d00@aer_simulator & 5de545ed-c818-4a18-bb57-9cb7710edb2d@aer_simulator'), 0.024: (0.4992014567057292, 0.0, 0.4194018046061198, 0.0, '46f19581-0651-4e6e-a8e9-5cdc96119d3b@aer_simulator & 111c0fbb-878c-4524-b391-a1b32eefd41a@aer_simulator & ff2a384a-248a-4d9a-b745-6a607f0a619c@aer_simulator & ee51f2af-256b-4c7f-ac03-5d77d2637042@aer_simulator'), 0.07: (0.4981943766276042, 0.0, 0.4970652262369792, 0.0, '6774b003-fc3b-4615-a88c-af3b6071946a@aer_simulator & 50cdaf35-7821-4272-ad15-a873bcdd3c21@aer_simulator & 8b43352d-b4e4-417f-82b9-1c62225624ff@aer_simulator'), 0.017: (0.4922281901041667, 0.0, 0.3593851725260417, 0.0, '5b71bafa-28f8-461a-9a1f-24f12ce02a2d@aer_simulator & 2b10fa33-da6b-4580-9b85-029943ff7ec1@aer_simulator & de9f4229-52af-4043-8940-2edb5f27deb3@aer_simulator'), 0.13: (0.49945068359375, 0.0, 0.5006866455078125, 0.0, '459cdda0-bdba-43a5-a527-2098640ea426@aer_simulator & f6eee26c-d561-454f-90ec-0b4dc044de66@aer_simulator'), 0.011: (0.472930908203125, 0.0, 0.2800140380859375, 0.0, 'ea4b85d1-9509-448a-9180-ebe9ffeaa021@aer_simulator & 1a117366-cb74-40d9-9735-a48cad46e2b8@aer_simulator'), 0.08: (0.5010986328125, 0.0, 0.497283935546875, 0.0, 'fdd909d7-f608-4593-835e-132d6049d19b@aer_simulator & 0d94c3b7-aebd-4082-a1b6-a126d6764cf8@aer_simulator'), 0.15: (0.4988555908203125, 0.0, 0.498138427734375, 0.0, '9fa93bf2-c5ee-4993-93f7-4d68461db214@aer_simulator & 645be6cd-a335-48f8-8414-5714514a711b@aer_simulator'), 0.06: (0.4974009195963542, 0.0, 0.4935658772786458, 0.0, 'd9c098ba-c206-4169-9b99-e5fe0b3bba7f@aer_simulator & 5edfa468-20f6-4aa3-8fd8-4c68b3124717@aer_simulator & cc50fc18-5d21-4e74-92e6-eb88e699a23e@aer_simulator'), 0.023: (0.5011469523111979, 0.0, 0.41257476806640625, 0.0, '5502a183-19c5-46d9-b06d-4dd31a3345ab@aer_simulator & c1842903-d7e5-47d7-a756-2b385193475a@aer_simulator & 226e39c1-9936-4c2d-9d00-e7d53dfb036a@aer_simulator & 7d2a7cfa-0a18-4be7-b38c-99ad8a2aefcc@aer_simulator'), 0.016: (0.4953969319661458, 0.0, 0.3480275472005208, 0.0, '465cd66d-df3a-40ed-bd70-0e36e4aec688@aer_simulator & 7abf08e6-7e3c-4688-9f9b-2d6b8c9c671e@aer_simulator & 181a5df4-644a-40a1-92cc-37d5cdd68990@aer_simulator'), 0.02: (0.4980621337890625, 0.0, 0.3893585205078125, 0.0, '2f8dcbb7-430b-48a9-aac1-284a09011e8b@aer_simulator & 59c54090-9bed-4e81-9f56-6f1ca438804b@aer_simulator & 5cd6f677-0f1f-477f-b11f-a75618a78a63@aer_simulator'), 0.013: (0.48211669921875, 0.0, 0.3076324462890625, 0.0, '8c072f90-1382-4a50-b8d8-098ed95794a6@aer_simulator & 69192f44-5910-4c4c-a654-654af71efeea@aer_simulator'), 0.04: (0.498199462890625, 0.0, 0.472747802734375, 0.0, '8efb3759-3e3e-440a-87c4-a01ba0124844@aer_simulator & 7a5db0de-86f4-40c9-806a-05bda33111dd@aer_simulator'), 0.09: (0.5015106201171875, 0.0, 0.5007476806640625, 0.0, '5174f78d-b597-4c69-ab58-6c2280b0c15c@aer_simulator & 7e7858e5-89d3-4d04-aa37-125a608479bf@aer_simulator'), 0.05: (0.502593994140625, 0.0, 0.4892730712890625, 0.0, 'faee68be-e197-480b-9a8c-9235b4d4a239@aer_simulator & 19793d24-2c3a-4363-b20a-013bad11eab3@aer_simulator'), 0.009: (0.45281982421875, 0.0, 0.242950439453125, 0.0, '84a9e20e-1291-4be7-b519-d7bd1d31d51b@aer_simulator & f93458cc-ef64-46d9-8fba-c31a93815bae@aer_simulator'), 0.022: (0.4976654052734375, 0.0, 0.4045206705729167, 0.0, '1b2f1768-a2ab-4351-b624-fc612b7a258c@aer_simulator & 7f1c8f36-75ea-4225-8661-7878fba2c078@aer_simulator & c5d3fec9-225a-4a7a-8c31-97a135c54cf1@aer_simulator'), 0.018: (0.499053955078125, 0.0, 0.3685760498046875, 0.0, '1d73d4c7-463e-41f0-8cf1-7682e8e9f188@aer_simulator & c777a973-6a24-4a74-9041-ce24d48433d3@aer_simulator & ea7eabfc-efd9-4b83-901b-f529ecdff6bd@aer_simulator'), 0.005: (0.3610992431640625, 0.0, 0.1566619873046875, 0.0, '65790f60-38ba-4fc7-a7cb-f800e9ed34bd@aer_simulator & 3f056dea-df5f-407a-824f-8051b66b7ce8@aer_simulator'), 0.021: (0.4950815836588542, 0.0, 0.3975880940755208, 0.0, '4348d428-56b8-4c75-9b79-5974e35ff77e@aer_simulator & f180fb26-db8b-4c04-ae15-dcd7e9e1ef77@aer_simulator & f9bcd466-06eb-44d3-9fb1-414450e68075@aer_simulator'), 0.006: (0.3980662027994792, 0.0, 0.18270365397135416, 0.0, 'b50674f5-a325-41bc-8231-1822e8219c2a@aer_simulator & ea672135-3d25-41e5-a72e-ae90d55a324b@aer_simulator & d7e470f3-dd78-4864-8728-9d526ec42876@aer_simulator'), 0.085: (0.5045318603515625, 0.0, 0.5008392333984375, 0.0, '7603321e-e3e1-4e7a-be17-2b89ee420780@aer_simulator & 3e459c3e-27a4-4932-adb7-efa47aad198b@aer_simulator'), 0.025: (0.5019861857096355, 0.0, 0.42458419799804686, 0.0, '791f2ebb-875f-4e8d-b9ea-eef5b132704b@aer_simulator & 2446b072-2100-4d9d-b344-2de3c934e21e@aer_simulator & fa37e854-7c24-4b75-a453-afa5904e9340@aer_simulator & 7b397c11-26a2-4358-8870-84c949430b63@aer_simulator & b4ca435b-3bad-4dff-a7e7-f0a179879754@aer_simulator'), 0.035: (0.500335693359375, 0.0, 0.4635518391927083, 0.0, 'd56d04cf-5ee8-4d5f-ad85-63d149346528@aer_simulator & 0ca5d5a9-0bd4-46f7-b1f2-33a22e69ac54@aer_simulator & 8362fbeb-ad21-4d9f-8460-4408900962a9@aer_simulator'), 0.135: (0.500213623046875, 0.0, 0.502471923828125, 0.0, '820da3f6-d068-4f02-802e-75ed9708ceea@aer_simulator & ec5c73cd-b0e4-4a54-a645-8d2ce18948f8@aer_simulator'), 0.007: (0.4163665771484375, 0.0, 0.20306396484375, 0.0, '9e09e533-f2b2-459c-b8c4-2d0d574b5e75@aer_simulator & 60b2c01a-7604-4a6c-bab5-4d4fc6043ee0@aer_simulator'), 0.055: (0.500640869140625, 0.0, 0.491546630859375, 0.0, '89aa09a8-076c-4b8b-9035-48822172ce6b@aer_simulator & d1e35350-b77b-4e7d-87b5-921bb404891b@aer_simulator'), 0.014: (0.4867095947265625, 0.0, 0.3243865966796875, 0.0, '3a8b1da9-8c6e-43c6-93d4-159a145ceee4@aer_simulator & ef0c3e36-3854-4d1d-9039-65f5b0e2bcfa@aer_simulator'), 0.012: (0.4771881103515625, 0.0, 0.29620361328125, 0.0, 'b3f44705-d7dd-4e12-8727-8c238a0c8f89@aer_simulator & 8d4ac9ea-6fbe-4fac-b40c-c247b751a887@aer_simulator'), 0.145: (0.4954833984375, 0.0, 0.4993743896484375, 0.0, '42f97e99-f715-427f-89d5-94c8b3c364db@aer_simulator & 24db7dcd-bb65-47d2-878e-6c003026e8e5@aer_simulator'), 0.045: (0.500732421875, 0.0, 0.4849090576171875, 0.0, 'a37a08c7-1cb9-48bf-bf8b-17a12990b317@aer_simulator & 84c49f08-e7db-41bc-ac38-bbe67ff0bea8@aer_simulator'), 0.015: (0.4931284586588542, 0.0, 0.3363291422526042, 0.0, '073e4c1b-23cc-4467-8046-60bb112fbe3a@aer_simulator & 9b592a80-4f65-433d-aacd-d615e608c3ea@aer_simulator & 7bfc6ac7-a2c0-4e47-879f-29a8f40eed5d@aer_simulator'), 0.14: (0.500457763671875, 0.0, 0.498687744140625, 0.0, '8eada305-8903-4085-9075-588f2196c258@aer_simulator & 9ec66f9e-7461-4abe-b82d-c5f2cf3b4068@aer_simulator'), 0.065: (0.4995269775390625, 0.0, 0.4942779541015625, 0.0, 'ced0f79a-e0ae-48d8-aaaf-dd00b384ec43@aer_simulator & dc23e835-a62a-4543-bf57-a6f99c81bd29@aer_simulator'), 0.0175: (0.4960683186848958, 0.0, 0.3656565348307292, 0.0, '6bf75331-ee45-4464-bfdd-f9dfc6adf898@aer_simulator & 8de654c4-d92a-433b-89b3-9b91c8609632@aer_simulator & 76a5d127-e767-45fb-a75e-4a26433a8254@aer_simulator'), 0.125: (0.5013580322265625, 0.0, 0.5006256103515625, 0.0, '8dbae9fc-3cb1-4b0f-b996-04bec8e266a6@aer_simulator & 9cbe3c7a-0ce0-4e5c-89c6-53e55ed75eb3@aer_simulator'), 0.008: (0.43560791015625, 0.0, 0.2231597900390625, 0.0, '65d07cc2-29cb-4aff-aceb-ab90a5b2a225@aer_simulator & 60410a59-e9ca-4107-85db-c90359bcaf91@aer_simulator'), 0.03: (0.5030364990234375, 0.0, 0.4435577392578125, 0.0, '074d4611-a6f5-4c58-a263-5e4865eb537f@aer_simulator & ad1e5a21-4d37-41a7-861b-f2ba721cdbe4@aer_simulator'), 0.155: (0.4980010986328125, 0.0, 0.4978790283203125, 0.0, '55fe4326-ec8a-4a77-9bc5-040cfddf10eb@aer_simulator & 0fcb6c72-d19b-4cc3-8f34-117ccc74af7a@aer_simulator'), 0.075: (0.500885009765625, 0.0, 0.4982452392578125, 0.0, '563d0cef-b05d-431e-95c6-b7ac6143463d@aer_simulator & 30040cf4-8833-483f-a410-7e1b3198bb77@aer_simulator')}\n"
   ]
  },
  {
   "cell_type": "markdown",
   "id": "e7d357dd",
   "metadata": {},
   "source": [
    "Calculate results for more error probs by adding them to `probs4sim`."
   ]
  },
  {
   "cell_type": "code",
   "execution_count": null,
   "id": "9e345405",
   "metadata": {},
   "outputs": [],
   "source": [
    "probs4sim = [0.023,0.024]\n",
    "\n",
    "for prob in probs4sim:\n",
    "\n",
    "    w_av, z_av, archive_id = get_results('@aer_simulator',T,prob=prob)\n",
    "\n",
    "    print('Average minimum for w stabilizers:','Average minimum for z stabilizers:')\n",
    "    av_w, std_w, av_z, std_z = get_average_mean(w_av, z_av)\n",
    "    sim_results[prob] = av_w, std_w, av_z, std_z, archive_id\n",
    "    print(av_w,'+/-',std_w,av_z,'+/-',std_z)"
   ]
  },
  {
   "cell_type": "code",
   "execution_count": null,
   "id": "52553ec3",
   "metadata": {},
   "outputs": [],
   "source": [
    "print(sim_results)"
   ]
  },
  {
   "cell_type": "markdown",
   "id": "af064fdf",
   "metadata": {},
   "source": [
    "Or you can recalculate the results for all previous simulations with the following."
   ]
  },
  {
   "cell_type": "code",
   "execution_count": null,
   "id": "ee5d7a86",
   "metadata": {},
   "outputs": [],
   "source": [
    "def av(val0,val1,shots0,shots1,std=False):\n",
    "    if not std:\n",
    "        return (val0*shots0+val1*shots1)/(shots0+shots1)\n",
    "    else:\n",
    "        return np.sqrt((val0**2*shots0+val1**2*shots1)/(shots0+shots1))\n",
    "\n",
    "sim_results = {}\n",
    "done = {}\n",
    "for file in os.listdir('archive'): \n",
    "    if 'aer_simulator' in file:\n",
    "        job = get_archive(file)\n",
    "        if 'T='+str(T) in job.note:\n",
    "            \n",
    "            prob = float(job.note.split('prob=')[1])\n",
    "            shots = job.result().to_dict()['results'][0]['shots']\n",
    "            \n",
    "            if prob in done:\n",
    "                done[prob].append(shots)\n",
    "            else:\n",
    "                done[prob] = [shots]\n",
    "            \n",
    "            w_av, z_av, archive_id = get_results(file,T,prob=prob)\n",
    "            av_w, std_w, av_z, std_z = get_average_mean(w_av, z_av)\n",
    "            \n",
    "            if prob in sim_results:\n",
    "                av_w0, std_w0, av_z0, std_z0, archive_id0 = sim_results[prob]\n",
    "                av_w = av(av_w,av_w0,sum(done[prob][:-1:]),shots)\n",
    "                av_z = av(av_z,av_z0,sum(done[prob][:-1:]),shots)\n",
    "                std_w = av(std_w,std_w0,sum(done[prob][:-1:]),shots,std=True)\n",
    "                std_w = av(std_z,std_z0,sum(done[prob][:-1:]),shots,std=True)\n",
    "                archive_id = archive_id0+' & '+archive_id\n",
    "                                \n",
    "            sim_results[prob] = av_w, std_w, av_z, std_z, archive_id"
   ]
  },
  {
   "cell_type": "markdown",
   "id": "f9b8aa55",
   "metadata": {},
   "source": [
    "# Plotting the results"
   ]
  },
  {
   "cell_type": "markdown",
   "id": "938cf9b9",
   "metadata": {},
   "source": [
    "As the title says."
   ]
  },
  {
   "cell_type": "code",
   "execution_count": null,
   "id": "337840f5",
   "metadata": {
    "scrolled": false
   },
   "outputs": [],
   "source": [
    "plt.figure(figsize=(12,7))\n",
    "\n",
    "plt.rcParams.update({'font.size': 22})\n",
    "\n",
    "xmin, xmax = 0.004, 0.0705\n",
    "plt.xlim(xmin, xmax)\n",
    "\n",
    "sim_probs = list(sim_results.keys())\n",
    "sim_probs.sort()\n",
    "\n",
    "sw = []\n",
    "sz = []\n",
    "for prob in sim_probs:\n",
    "    sw.append(sim_results[prob][0])\n",
    "    sz.append(sim_results[prob][2]) \n",
    "\n",
    "    \n",
    "plt.scatter(sim_probs,sw,s=200,marker='x',c='grey',label='simulated noise')\n",
    "plt.scatter(sim_probs,sz,s=200,marker='+',c='grey')\n",
    "\n",
    "colors = ['red','green','blue','orange','purple','teal']\n",
    "c = 0\n",
    "probs = list(q_results.keys())\n",
    "probs.sort()\n",
    "for prob in probs:\n",
    "    if prob>xmin and prob<xmax:\n",
    "        name = q_results[prob][4].split('@')[1]\n",
    "        plt.scatter([prob],[q_results[prob][0]],s=400,marker='x',label=name,c=colors[c])\n",
    "        plt.scatter([prob],[q_results[prob][2]],s=400,marker='+',c=colors[c])\n",
    "        c += 1\n",
    "    \n",
    "plt.legend()"
   ]
  },
  {
   "cell_type": "code",
   "execution_count": null,
   "id": "f3c2bcd8",
   "metadata": {},
   "outputs": [],
   "source": []
  }
 ],
 "metadata": {
  "kernelspec": {
   "display_name": "Python 3",
   "language": "python",
   "name": "python3"
  },
  "language_info": {
   "codemirror_mode": {
    "name": "ipython",
    "version": 3
   },
   "file_extension": ".py",
   "mimetype": "text/x-python",
   "name": "python",
   "nbconvert_exporter": "python",
   "pygments_lexer": "ipython3",
   "version": "3.9.1"
  }
 },
 "nbformat": 4,
 "nbformat_minor": 5
}
