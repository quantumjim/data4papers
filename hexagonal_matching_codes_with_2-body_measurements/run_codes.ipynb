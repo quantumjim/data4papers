{
 "cells": [
  {
   "cell_type": "code",
   "execution_count": null,
   "id": "77c5d956",
   "metadata": {},
   "outputs": [],
   "source": [
    "from matching_codes import *\n",
    "from matplotlib import pyplot as plt"
   ]
  },
  {
   "cell_type": "markdown",
   "id": "cdf32367",
   "metadata": {},
   "source": [
    "# Results from quantum hardware"
   ]
  },
  {
   "cell_type": "markdown",
   "id": "f444c84d",
   "metadata": {},
   "source": [
    "Collected results so far are in the following dictionary."
   ]
  },
  {
   "cell_type": "code",
   "execution_count": null,
   "id": "68c3bc43",
   "metadata": {},
   "outputs": [],
   "source": [
    "q_results = {0.014733304864212728: (0.49946014404296873, 0.002957956919416478, 0.35208953857421876, 0.002724540788204261, '61408c8e7441036bc032bf10@ibm_cairo'), 0.03919804873657737: (0.49828338623046875, 0.0, 0.49687957763671875, 0.0, '61406c6f7441031e1d32be12@ibmq_brooklyn'), 0.18277725592702185: (0.49835205078125, 0.0, 0.5001144409179688, 0.0, '61406c5e966497a496f64715@ibmq_manhattan'), 0.04410558418549261: (0.496673583984375, 0.0, 0.49609375, 0.0, '6140a857010c164bf5563db3@ibmq_montreal'), 0.015516841814849866: (0.4997662353515625, 0.0023386272235645495, 0.3969146728515625, 0.002519079581887645, '6140b376010c161a6c563e21@ibm_hanoi'), 0.0903651130410122: (0.504638671875, 0.0, 0.49481201171875, 0.0, '614320208eca75491642c205@ibmq_sydney'), 0.0516558474392802: (0.4949951171875, 0.0, 0.49884033203125, 0.0, '61432155744103206a32da50@ibmq_toronto')}\n"
   ]
  },
  {
   "cell_type": "markdown",
   "id": "e42de9f4",
   "metadata": {},
   "source": [
    "Put an archive id below to process and add another result. To start a new job, use `'@'+backend_name`."
   ]
  },
  {
   "cell_type": "code",
   "execution_count": null,
   "id": "6d00b902",
   "metadata": {},
   "outputs": [],
   "source": [
    "archive_id = ''\n",
    "\n",
    "w_av, z_av, archive_id = get_results(archive_id,3,num_copies=1)\n",
    "\n",
    "av_w, std_w, av_z, std_z = get_average_mean(w_av, z_av)\n",
    "probs_meas, probs_prep, probs_cx, probs_idle, p_0, p_0_std = noise_details(archive_id)\n",
    "\n",
    "q_results[p_0] = av_w, std_w, av_z, std_z, archive_id"
   ]
  },
  {
   "cell_type": "code",
   "execution_count": null,
   "id": "69e03d02",
   "metadata": {},
   "outputs": [],
   "source": [
    "print(q_results)"
   ]
  },
  {
   "cell_type": "markdown",
   "id": "16f72b22",
   "metadata": {},
   "source": [
    "# Results from simulations"
   ]
  },
  {
   "cell_type": "code",
   "execution_count": null,
   "id": "6b320d91",
   "metadata": {},
   "outputs": [],
   "source": [
    "Collected results so far are in the following dictionary."
   ]
  },
  {
   "cell_type": "code",
   "execution_count": null,
   "id": "2d5d7108",
   "metadata": {},
   "outputs": [],
   "source": [
    "sim_results = {}"
   ]
  },
  {
   "cell_type": "markdown",
   "id": "e7d357dd",
   "metadata": {},
   "source": [
    "Calculate results for more error probs by adding them to `probs4sim`."
   ]
  },
  {
   "cell_type": "code",
   "execution_count": null,
   "id": "9e345405",
   "metadata": {},
   "outputs": [],
   "source": [
    "T = 3\n",
    "\n",
    "probs4sim = []\n",
    "\n",
    "for prob in probs4sim:\n",
    "\n",
    "    w_av, z_av, archive_id = get_results('@aer_simulator',T,prob=prob)\n",
    "\n",
    "    print('Average minimum for w stabilizers:','Average minimum for z stabilizers:')\n",
    "    av_w, std_w, av_z, std_z = get_average_mean(w_av, z_av)\n",
    "    sim_results[prob] = av_w, std_w, av_z, std_z, archive_id\n",
    "    print(av_w,'+/-',std_w,av_z,'+/-',std_z)"
   ]
  },
  {
   "cell_type": "code",
   "execution_count": null,
   "id": "21bb7616",
   "metadata": {},
   "outputs": [],
   "source": [
    "print(sim_results)"
   ]
  },
  {
   "cell_type": "markdown",
   "id": "f9b8aa55",
   "metadata": {},
   "source": [
    "# Plotting the results"
   ]
  },
  {
   "cell_type": "markdown",
   "id": "938cf9b9",
   "metadata": {},
   "source": [
    "As the title says."
   ]
  },
  {
   "cell_type": "code",
   "execution_count": null,
   "id": "337840f5",
   "metadata": {
    "scrolled": false
   },
   "outputs": [],
   "source": [
    "plt.figure(figsize=(12,7))\n",
    "\n",
    "plt.rcParams.update({'font.size': 22})\n",
    "\n",
    "xmin, xmax = 0.004, 0.0705\n",
    "plt.xlim(xmin, xmax)\n",
    "\n",
    "sim_probs = list(sim_results.keys())\n",
    "sim_probs.sort()\n",
    "\n",
    "sw = []\n",
    "sz = []\n",
    "for prob in sim_probs:\n",
    "    sw.append(sim_results[prob][0])\n",
    "    sz.append(sim_results[prob][2]) \n",
    "\n",
    "    \n",
    "plt.scatter(sim_probs,sw,s=200,marker='x',c='grey',label='simulated noise')\n",
    "plt.scatter(sim_probs,sz,s=200,marker='+',c='grey')\n",
    "\n",
    "colors = ['red','green','blue','orange','purple','teal']\n",
    "c = 0\n",
    "probs = list(q_results.keys())\n",
    "probs.sort()\n",
    "for prob in probs:\n",
    "    if prob>xmin and prob<xmax:\n",
    "        name = q_results[prob][4].split('@')[1]\n",
    "        plt.scatter([prob],[q_results[prob][0]],s=400,marker='x',label=name,c=colors[c])\n",
    "        plt.scatter([prob],[q_results[prob][2]],s=400,marker='+',c=colors[c])\n",
    "        c += 1\n",
    "    \n",
    "plt.legend()\n"
   ]
  },
  {
   "cell_type": "code",
   "execution_count": null,
   "id": "1442ce64",
   "metadata": {},
   "outputs": [],
   "source": []
  }
 ],
 "metadata": {
  "kernelspec": {
   "display_name": "Python 3",
   "language": "python",
   "name": "python3"
  },
  "language_info": {
   "codemirror_mode": {
    "name": "ipython",
    "version": 3
   },
   "file_extension": ".py",
   "mimetype": "text/x-python",
   "name": "python",
   "nbconvert_exporter": "python",
   "pygments_lexer": "ipython3",
   "version": "3.9.1"
  }
 },
 "nbformat": 4,
 "nbformat_minor": 5
}
