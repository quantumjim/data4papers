{
 "cells": [
  {
   "cell_type": "code",
   "execution_count": null,
   "id": "77c5d956",
   "metadata": {},
   "outputs": [],
   "source": [
    "from matching_codes import *\n",
    "from matplotlib import pyplot as plt"
   ]
  },
  {
   "cell_type": "markdown",
   "id": "cdf32367",
   "metadata": {},
   "source": [
    "# Results from quantum hardware"
   ]
  },
  {
   "cell_type": "markdown",
   "id": "f444c84d",
   "metadata": {},
   "source": [
    "Collected results so far are in the following dictionary."
   ]
  },
  {
   "cell_type": "code",
   "execution_count": null,
   "id": "68c3bc43",
   "metadata": {},
   "outputs": [],
   "source": [
    "q_results = {0.014733304864212728: (0.49946014404296873, 0.002957956919416478, 0.35208953857421876, 0.002724540788204261, '61408c8e7441036bc032bf10@ibm_cairo'), 0.03919804873657737: (0.49828338623046875, 0.0, 0.49687957763671875, 0.0, '61406c6f7441031e1d32be12@ibmq_brooklyn'), 0.18277725592702185: (0.49835205078125, 0.0, 0.5001144409179688, 0.0, '61406c5e966497a496f64715@ibmq_manhattan'), 0.04410558418549261: (0.496673583984375, 0.0, 0.49609375, 0.0, '6140a857010c164bf5563db3@ibmq_montreal'), 0.015516841814849866: (0.4997662353515625, 0.0023386272235645495, 0.3969146728515625, 0.002519079581887645, '6140b376010c161a6c563e21@ibm_hanoi'), 0.0903651130410122: (0.504638671875, 0.0, 0.49481201171875, 0.0, '614320208eca75491642c205@ibmq_sydney'), 0.0516558474392802: (0.4949951171875, 0.0, 0.49884033203125, 0.0, '61432155744103206a32da50@ibmq_toronto')}\n"
   ]
  },
  {
   "cell_type": "markdown",
   "id": "e42de9f4",
   "metadata": {},
   "source": [
    "Put an archive id below to process and add another result. To start a new job, use `'@'+backend_name`."
   ]
  },
  {
   "cell_type": "code",
   "execution_count": null,
   "id": "6d00b902",
   "metadata": {},
   "outputs": [],
   "source": [
    "archive_id = ''\n",
    "\n",
    "w_av, z_av, archive_id = get_results(archive_id,3,num_copies=1)\n",
    "\n",
    "av_w, std_w, av_z, std_z = get_average_mean(w_av, z_av)\n",
    "probs_meas, probs_prep, probs_cx, probs_idle, p_0, p_0_std = noise_details(archive_id)\n",
    "\n",
    "q_results[p_0] = av_w, std_w, av_z, std_z, archive_id"
   ]
  },
  {
   "cell_type": "code",
   "execution_count": null,
   "id": "69e03d02",
   "metadata": {},
   "outputs": [],
   "source": [
    "print(q_results)"
   ]
  },
  {
   "cell_type": "markdown",
   "id": "16f72b22",
   "metadata": {},
   "source": [
    "# Results from simulations"
   ]
  },
  {
   "cell_type": "code",
   "execution_count": null,
   "id": "6b320d91",
   "metadata": {},
   "outputs": [],
   "source": [
    "Collected results so far are in the following dictionary."
   ]
  },
  {
   "cell_type": "code",
   "execution_count": null,
   "id": "2d5d7108",
   "metadata": {},
   "outputs": [],
   "source": [
    "sim_results = {0.01: (0.463592529296875, 0.0, 0.26318359375, 0.0, '747e9e4d-ba0e-4802-a280-455c861c8df6@aer_simulator'), 0.011: (0.47259521484375, 0.0, 0.28399658203125, 0.0, 'ea4b85d1-9509-448a-9180-ebe9ffeaa021@aer_simulator'), 0.012: (0.477691650390625, 0.0, 0.294219970703125, 0.0, '8d4ac9ea-6fbe-4fac-b40c-c247b751a887@aer_simulator'), 0.013: (0.48187255859375, 0.0, 0.3111572265625, 0.0, '8c072f90-1382-4a50-b8d8-098ed95794a6@aer_simulator'), 0.014: (0.48828125, 0.0, 0.322967529296875, 0.0, 'ef0c3e36-3854-4d1d-9039-65f5b0e2bcfa@aer_simulator'), 0.015: (0.494873046875, 0.0, 0.336090087890625, 0.0, '7bfc6ac7-a2c0-4e47-879f-29a8f40eed5d@aer_simulator'), 0.016: (0.49603271484375, 0.0, 0.3472900390625, 0.0, '181a5df4-644a-40a1-92cc-37d5cdd68990@aer_simulator'), 0.017: (0.495025634765625, 0.0, 0.36181640625, 0.0, '2b10fa33-da6b-4580-9b85-029943ff7ec1@aer_simulator'), 0.018: (0.4932861328125, 0.0, 0.3719482421875, 0.0, '1d73d4c7-463e-41f0-8cf1-7682e8e9f188@aer_simulator'), 0.019: (0.500640869140625, 0.0, 0.377166748046875, 0.0, 'a1503e1a-6eb1-43a3-bcb8-7a5831e294f6@aer_simulator'), 0.02: (0.4990234375, 0.0, 0.38934326171875, 0.0, '5cd6f677-0f1f-477f-b11f-a75618a78a63@aer_simulator'), 0.021: (0.494110107421875, 0.0, 0.397003173828125, 0.0, 'f9bcd466-06eb-44d3-9fb1-414450e68075@aer_simulator'), 0.022: (0.498626708984375, 0.0, 0.403656005859375, 0.0, '1b2f1768-a2ab-4351-b624-fc612b7a258c@aer_simulator'), 0.023: (0.492401123046875, 0.0, 0.407745361328125, 0.0, '226e39c1-9936-4c2d-9d00-e7d53dfb036a@aer_simulator'), 0.024: (0.50103759765625, 0.0, 0.416351318359375, 0.0, '111c0fbb-878c-4524-b391-a1b32eefd41a@aer_simulator'), 0.03: (0.505523681640625, 0.0, 0.443023681640625, 0.0, '074d4611-a6f5-4c58-a263-5e4865eb537f@aer_simulator'), 0.035: (0.502777099609375, 0.0, 0.46282958984375, 0.0, '8362fbeb-ad21-4d9f-8460-4408900962a9@aer_simulator'), 0.04: (0.4970703125, 0.0, 0.47210693359375, 0.0, '8efb3759-3e3e-440a-87c4-a01ba0124844@aer_simulator'), 0.045: (0.499908447265625, 0.0, 0.48699951171875, 0.0, '84c49f08-e7db-41bc-ac38-bbe67ff0bea8@aer_simulator'), 0.05: (0.5042724609375, 0.0, 0.490814208984375, 0.0, '19793d24-2c3a-4363-b20a-013bad11eab3@aer_simulator'), 0.055: (0.500213623046875, 0.0, 0.491851806640625, 0.0, '89aa09a8-076c-4b8b-9035-48822172ce6b@aer_simulator'), 0.06: (0.4971923828125, 0.0, 0.495452880859375, 0.0, '5edfa468-20f6-4aa3-8fd8-4c68b3124717@aer_simulator'), 0.065: (0.497589111328125, 0.0, 0.492431640625, 0.0, 'dc23e835-a62a-4543-bf57-a6f99c81bd29@aer_simulator'), 0.07: (0.501708984375, 0.0, 0.49896240234375, 0.0, '6774b003-fc3b-4615-a88c-af3b6071946a@aer_simulator')}"
   ]
  },
  {
   "cell_type": "markdown",
   "id": "e7d357dd",
   "metadata": {},
   "source": [
    "Calculate results for more error probs by adding them to `probs4sim`."
   ]
  },
  {
   "cell_type": "code",
   "execution_count": null,
   "id": "9e345405",
   "metadata": {},
   "outputs": [],
   "source": [
    "T = 3\n",
    "\n",
    "probs4sim = []\n",
    "\n",
    "for prob in probs4sim:\n",
    "\n",
    "    w_av, z_av, archive_id = get_results('@aer_simulator',T,prob=prob)\n",
    "\n",
    "    print('Average minimum for w stabilizers:','Average minimum for z stabilizers:')\n",
    "    av_w, std_w, av_z, std_z = get_average_mean(w_av, z_av)\n",
    "    sim_results[prob] = av_w, std_w, av_z, std_z, archive_id\n",
    "    print(av_w,'+/-',std_w,av_z,'+/-',std_z)"
   ]
  },
  {
   "cell_type": "code",
   "execution_count": null,
   "id": "21bb7616",
   "metadata": {},
   "outputs": [],
   "source": [
    "print(sim_results)"
   ]
  },
  {
   "cell_type": "markdown",
   "id": "f9b8aa55",
   "metadata": {},
   "source": [
    "# Plotting the results"
   ]
  },
  {
   "cell_type": "markdown",
   "id": "938cf9b9",
   "metadata": {},
   "source": [
    "As the title says."
   ]
  },
  {
   "cell_type": "code",
   "execution_count": null,
   "id": "337840f5",
   "metadata": {
    "scrolled": false
   },
   "outputs": [],
   "source": [
    "plt.figure(figsize=(12,7))\n",
    "\n",
    "plt.rcParams.update({'font.size': 22})\n",
    "\n",
    "xmin, xmax = 0.004, 0.0705\n",
    "plt.xlim(xmin, xmax)\n",
    "\n",
    "sim_probs = list(sim_results.keys())\n",
    "sim_probs.sort()\n",
    "\n",
    "sw = []\n",
    "sz = []\n",
    "for prob in sim_probs:\n",
    "    sw.append(sim_results[prob][0])\n",
    "    sz.append(sim_results[prob][2]) \n",
    "\n",
    "    \n",
    "plt.scatter(sim_probs,sw,s=200,marker='x',c='grey',label='simulated noise')\n",
    "plt.scatter(sim_probs,sz,s=200,marker='+',c='grey')\n",
    "\n",
    "colors = ['red','green','blue','orange','purple','teal']\n",
    "c = 0\n",
    "probs = list(q_results.keys())\n",
    "probs.sort()\n",
    "for prob in probs:\n",
    "    if prob>xmin and prob<xmax:\n",
    "        name = q_results[prob][4].split('@')[1]\n",
    "        plt.scatter([prob],[q_results[prob][0]],s=400,marker='x',label=name,c=colors[c])\n",
    "        plt.scatter([prob],[q_results[prob][2]],s=400,marker='+',c=colors[c])\n",
    "        c += 1\n",
    "    \n",
    "plt.legend()\n"
   ]
  },
  {
   "cell_type": "code",
   "execution_count": null,
   "id": "1442ce64",
   "metadata": {},
   "outputs": [],
   "source": []
  }
 ],
 "metadata": {
  "kernelspec": {
   "display_name": "Python 3",
   "language": "python",
   "name": "python3"
  },
  "language_info": {
   "codemirror_mode": {
    "name": "ipython",
    "version": 3
   },
   "file_extension": ".py",
   "mimetype": "text/x-python",
   "name": "python",
   "nbconvert_exporter": "python",
   "pygments_lexer": "ipython3",
   "version": "3.9.1"
  }
 },
 "nbformat": 4,
 "nbformat_minor": 5
}
